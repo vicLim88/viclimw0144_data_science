{
 "cells": [
  {
   "cell_type": "code",
   "execution_count": null,
   "metadata": {
    "colab": {
     "base_uri": "https://localhost:8080/",
     "height": 389
    },
    "id": "xpph2d9AdW9Q",
    "outputId": "1ce34e6f-08c1-4db2-e130-62110fc33538"
   },
   "outputs": [
    {
     "name": "stdout",
     "output_type": "stream",
     "text": [
      "Collecting Vic-Lim-WX==v0.3.2-alpha.1\n",
      "  Downloading Vic_Lim_WX-0.3.2a1.tar.gz (6.6 kB)\n",
      "  Preparing metadata (setup.py) ... \u001b[?25l\u001b[?25hdone\n",
      "Building wheels for collected packages: Vic-Lim-WX\n",
      "  Building wheel for Vic-Lim-WX (setup.py) ... \u001b[?25l\u001b[?25hdone\n",
      "  Created wheel for Vic-Lim-WX: filename=Vic_Lim_WX-0.3.2a1-py3-none-any.whl size=12185 sha256=d8d245f2e995ebf744548b68e4a497c13a4393140b6ad5ee10dabf5a52520cd1\n",
      "  Stored in directory: /root/.cache/pip/wheels/d4/60/f2/05e8cf4194ab987db3b9b26c1a6ead1867716361b89ac0ee12\n",
      "Successfully built Vic-Lim-WX\n",
      "Installing collected packages: Vic-Lim-WX\n",
      "  Attempting uninstall: Vic-Lim-WX\n",
      "    Found existing installation: Vic-Lim-WX 0.3.1\n",
      "    Uninstalling Vic-Lim-WX-0.3.1:\n",
      "      Successfully uninstalled Vic-Lim-WX-0.3.1\n",
      "Successfully installed Vic-Lim-WX-0.3.2a1\n"
     ]
    },
    {
     "data": {
      "application/vnd.colab-display-data+json": {
       "pip_warning": {
        "packages": [
         "vic_lim_wx"
        ]
       }
      }
     },
     "metadata": {},
     "output_type": "display_data"
    }
   ],
   "source": [
    "%pip install --upgrade Vic-Lim-WX==v0.3.2-alpha.1"
   ]
  },
  {
   "cell_type": "code",
   "execution_count": 8,
   "metadata": {
    "colab": {
     "base_uri": "https://localhost:8080/"
    },
    "id": "He1B6Z8DT8MK",
    "outputId": "5a982341-bb69-405b-bd7f-a2410944eff7"
   },
   "outputs": [
    {
     "name": "stdout",
     "output_type": "stream",
     "text": [
      "Requirement already satisfied: Vic-Lim-WX in c:\\users\\limw0\\anaconda3\\lib\\site-packages (0.3.1)\n",
      "Collecting Vic-Lim-WX\n",
      "  Downloading Vic_Lim_WX-0.3.2.tar.gz (6.6 kB)\n",
      "  Preparing metadata (setup.py): started\n",
      "  Preparing metadata (setup.py): finished with status 'done'\n",
      "Building wheels for collected packages: Vic-Lim-WX\n",
      "  Building wheel for Vic-Lim-WX (setup.py): started\n",
      "  Building wheel for Vic-Lim-WX (setup.py): finished with status 'done'\n",
      "  Created wheel for Vic-Lim-WX: filename=Vic_Lim_WX-0.3.2-py3-none-any.whl size=12174 sha256=0b5baad2f91f496d459befd50423df1549f33aa6c2f619fb760ae85d7bca3323\n",
      "  Stored in directory: c:\\users\\limw0\\appdata\\local\\pip\\cache\\wheels\\5e\\73\\62\\8a14f588a77e15de44ef3c65d3f0f649407acba119b303405f\n",
      "Successfully built Vic-Lim-WX\n",
      "Installing collected packages: Vic-Lim-WX\n",
      "  Attempting uninstall: Vic-Lim-WX\n",
      "    Found existing installation: Vic-Lim-WX 0.3.1\n",
      "    Uninstalling Vic-Lim-WX-0.3.1:\n",
      "      Successfully uninstalled Vic-Lim-WX-0.3.1\n",
      "Successfully installed Vic-Lim-WX-0.3.2\n"
     ]
    }
   ],
   "source": [
    "!pip install --upgrade Vic-Lim-WX"
   ]
  },
  {
   "cell_type": "code",
   "execution_count": 2,
   "metadata": {
    "colab": {
     "base_uri": "https://localhost:8080/"
    },
    "id": "WH2WLlD5-myv",
    "outputId": "676e1dad-e22d-4380-9459-0527c9552db4"
   },
   "outputs": [
    {
     "name": "stdout",
     "output_type": "stream",
     "text": [
      "Requirement already satisfied: colorama in c:\\users\\limw0\\anaconda3\\lib\\site-packages (0.4.6)\n"
     ]
    }
   ],
   "source": [
    "!pip install colorama"
   ]
  },
  {
   "cell_type": "code",
   "execution_count": 11,
   "metadata": {
    "id": "flhUM1gcUOfX"
   },
   "outputs": [],
   "source": [
    "import os\n",
    "import logging\n",
    "import vic_lim_wx as vic"
   ]
  },
  {
   "cell_type": "code",
   "execution_count": null,
   "metadata": {
    "colab": {
     "base_uri": "https://localhost:8080/"
    },
    "id": "rj0tHvgaBD9i",
    "outputId": "a1b15202-4864-4868-b170-c06d6057b290"
   },
   "outputs": [
    {
     "name": "stdout",
     "output_type": "stream",
     "text": [
      "/content/drive/MyDrive/DataScience\n",
      "[Colors]\r\n",
      "debug = blue\r\n",
      "info = green\r\n",
      "warning = yellow\r\n",
      "error = red\r\n",
      "critical = magenta\r\n",
      "reset = reset\r\n",
      "\r\n",
      "[Format]\r\n",
      "log_format = %%(asctime)s - %%(name)s - (%%(filename)s:%%(lineno)d) - %%(levelname)s - %%(message)s"
     ]
    }
   ],
   "source": [
    "%cd /content/drive/MyDrive/DataScience\n",
    "%cat config_logger.ini"
   ]
  },
  {
   "cell_type": "code",
   "execution_count": 12,
   "metadata": {
    "colab": {
     "base_uri": "https://localhost:8080/"
    },
    "id": "UvUniUXvCi-k",
    "outputId": "c46f6ac7-d9ad-404c-df9c-c0d149526d27"
   },
   "outputs": [
    {
     "name": "stdout",
     "output_type": "stream",
     "text": [
      "C:\\GIT\\Vic_Lim_WX\\notebook\n"
     ]
    }
   ],
   "source": [
    "print(f\"{os.getcwd()}\")"
   ]
  },
  {
   "cell_type": "code",
   "execution_count": 13,
   "metadata": {
    "id": "CRxBH_QJBYil"
   },
   "outputs": [],
   "source": [
    "class VicLearnAI:\n",
    "  def __init__(self, msg: str):\n",
    "    self.msg = msg\n",
    "    self.logger = vic.Vic_Custom_Logger(\n",
    "        class_name=VicLearnAI.__name__,\n",
    "        config_file=f\"{os.getcwd()}/config_logger.ini\").get_logger()\n",
    "\n",
    "  def show_debug(self)->None:\n",
    "    self.logger.debug(msg=self.msg)\n",
    "\n",
    "  def show_info(self)->None:\n",
    "    self.logger.info(msg=self.msg)\n",
    "\n",
    "  def show_warning(self)->None:\n",
    "    self.logger.warning(msg=self.msg)\n",
    "\n",
    "  def show_error(self)->None:\n",
    "    self.logger.error(msg=self.msg)\n",
    "\n",
    "\n",
    "  def show_critical(self)->None:\n",
    "    self.logger.critical(msg=self.msg)\n"
   ]
  },
  {
   "cell_type": "code",
   "execution_count": 15,
   "metadata": {
    "colab": {
     "base_uri": "https://localhost:8080/"
    },
    "id": "bCR7W8xiCfW2",
    "outputId": "1d6099b4-d669-43b1-d32d-82e5a9121f28"
   },
   "outputs": [
    {
     "name": "stdout",
     "output_type": "stream",
     "text": [
      "\u001b[34m2023-09-24 10:06:15,402 - VicLearnAI - (3572537745.py:9) - DEBUG - Vic's Demo\u001b[39m\n",
      "\u001b[34m2023-09-24 10:06:15,402 - VicLearnAI - (3572537745.py:9) - DEBUG - Vic's Demo\u001b[39m\n",
      "\u001b[34m2023-09-24 10:06:15,402 - VicLearnAI - (3572537745.py:9) - DEBUG - Vic's Demo\u001b[39m\n",
      "\u001b[34m2023-09-24 10:06:15,402 - VicLearnAI - (3572537745.py:9) - DEBUG - Vic's Demo\u001b[39m\n",
      "\u001b[34m2023-09-24 10:06:15,402 - VicLearnAI - (3572537745.py:9) - DEBUG - Vic's Demo\u001b[39m\n",
      "\u001b[34m2023-09-24 10:06:15,402 - VicLearnAI - (3572537745.py:9) - DEBUG - Vic's Demo\u001b[39m\n",
      "\u001b[34m2023-09-24 10:06:15,402 - VicLearnAI - (3572537745.py:9) - DEBUG - Vic's Demo\u001b[39m\n",
      "\u001b[34m2023-09-24 10:06:15,402 - VicLearnAI - (3572537745.py:9) - DEBUG - Vic's Demo\u001b[39m\n",
      "\u001b[34m2023-09-24 10:06:15,402 - VicLearnAI - (3572537745.py:9) - DEBUG - Vic's Demo\u001b[39m\n",
      "\u001b[34m2023-09-24 10:06:15,402 - VicLearnAI - (3572537745.py:9) - DEBUG - Vic's Demo\u001b[39m\n",
      "\u001b[34m2023-09-24 10:06:15,402 - VicLearnAI - (3572537745.py:9) - DEBUG - Vic's Demo\u001b[39m\n",
      "\u001b[34m2023-09-24 10:06:15,402 - VicLearnAI - (3572537745.py:9) - DEBUG - Vic's Demo\u001b[39m\n",
      "\u001b[34m2023-09-24 10:06:15,402 - VicLearnAI - (3572537745.py:9) - DEBUG - Vic's Demo\u001b[39m\n"
     ]
    }
   ],
   "source": [
    "message: str = \"Vic's Demo\"\n",
    "logger = VicLearnAI(msg=message)\n",
    "logger.show_debug()"
   ]
  }
 ],
 "metadata": {
  "colab": {
   "provenance": []
  },
  "kernelspec": {
   "display_name": "Python 3 (ipykernel)",
   "language": "python",
   "name": "python3"
  },
  "language_info": {
   "codemirror_mode": {
    "name": "ipython",
    "version": 3
   },
   "file_extension": ".py",
   "mimetype": "text/x-python",
   "name": "python",
   "nbconvert_exporter": "python",
   "pygments_lexer": "ipython3",
   "version": "3.9.16"
  }
 },
 "nbformat": 4,
 "nbformat_minor": 1
}
